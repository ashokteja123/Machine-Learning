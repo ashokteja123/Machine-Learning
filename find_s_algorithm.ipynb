{
  "nbformat": 4,
  "nbformat_minor": 0,
  "metadata": {
    "colab": {
      "provenance": [],
      "mount_file_id": "1pIvbcas5kV4VIkurY-HaQtqqVMge39bR",
      "authorship_tag": "ABX9TyOJM7VVpYxv3gRCpAXSDcmw",
      "include_colab_link": true
    },
    "kernelspec": {
      "name": "python3",
      "display_name": "Python 3"
    },
    "language_info": {
      "name": "python"
    }
  },
  "cells": [
    {
      "cell_type": "markdown",
      "metadata": {
        "id": "view-in-github",
        "colab_type": "text"
      },
      "source": [
        "<a href=\"https://colab.research.google.com/github/ashokteja123/Machine-Learning/blob/main/find_s_algorithm.ipynb\" target=\"_parent\"><img src=\"https://colab.research.google.com/assets/colab-badge.svg\" alt=\"Open In Colab\"/></a>"
      ]
    },
    {
      "cell_type": "code",
      "source": [
        "import csv\n",
        "hypo = ['%','%','%','%','%','%'];\n",
        "\n",
        "with open('/trainingdata.csv') as csv_file:\n",
        "    readcsv = csv.reader(csv_file, delimiter=',')\n",
        "    print(readcsv)\n",
        "\n",
        "    data = []\n",
        "    print(\"\\nThe given training examples are:\")\n",
        "    for row in readcsv:\n",
        "        print(row)\n",
        "        if row[len(row)-1].upper() == \"YES\":\n",
        "            data.append(row)\n",
        "\n",
        "print(\"\\nThe positive examples are:\");\n",
        "for x in data:\n",
        "    print(x);\n",
        "print(\"\\n\");\n",
        "\n",
        "TotalExamples = len(data);\n",
        "i=0;\n",
        "j=0;\n",
        "k=0;\n",
        "print(\"The steps of the Find-s algorithm are :\\n\",hypo);\n",
        "list = [];\n",
        "p=0;\n",
        "d=len(data[p])-1;\n",
        "for j in range(d):\n",
        "    list.append(data[i][j]);\n",
        "hypo=list;\n",
        "i=1;\n",
        "for i in range(TotalExamples):\n",
        "    for k in range(d):\n",
        "        if hypo[k]!=data[i][k]:\n",
        "            hypo[k]='?';\n",
        "            k=k+1;\n",
        "        else:\n",
        "            hypo[k];\n",
        "    print(hypo);\n",
        "i=i+1;\n",
        "\n",
        "print(\"\\nThe maximally specific Find-s hypothesis for the given training examples is :\");\n",
        "list=[];\n",
        "for i in range(d):\n",
        "    list.append(hypo[i]);\n",
        "print(list);"
      ],
      "metadata": {
        "colab": {
          "base_uri": "https://localhost:8080/"
        },
        "id": "HRxPHO5RvXGV",
        "outputId": "433509f7-a0ff-4ede-99f5-4e363e852aa7"
      },
      "execution_count": 4,
      "outputs": [
        {
          "output_type": "stream",
          "name": "stdout",
          "text": [
            "<_csv.reader object at 0x79b38c5eee30>\n",
            "\n",
            "The given training examples are:\n",
            "['sky', 'airTemp', 'humidity', 'wind', 'water', 'forecast', 'enjoySport']\n",
            "['Sunny', 'Warm', 'Normal', 'Strong', 'Warm', 'Same', 'Yes']\n",
            "['Sunny', 'Warm', 'High', 'Strong', 'Warm', 'Same', 'Yes']\n",
            "['Rainy', 'Cold', 'High', 'Strong', 'Warm', 'Change', 'No']\n",
            "['Sunny', 'Warm', 'High', 'Strong', 'Cool', 'Change', 'Yes']\n",
            "\n",
            "The positive examples are:\n",
            "['Sunny', 'Warm', 'Normal', 'Strong', 'Warm', 'Same', 'Yes']\n",
            "['Sunny', 'Warm', 'High', 'Strong', 'Warm', 'Same', 'Yes']\n",
            "['Sunny', 'Warm', 'High', 'Strong', 'Cool', 'Change', 'Yes']\n",
            "\n",
            "\n",
            "The steps of the Find-s algorithm are :\n",
            " ['%', '%', '%', '%', '%', '%']\n",
            "['Sunny', 'Warm', 'Normal', 'Strong', 'Warm', 'Same']\n",
            "['Sunny', 'Warm', '?', 'Strong', 'Warm', 'Same']\n",
            "['Sunny', 'Warm', '?', 'Strong', '?', '?']\n",
            "\n",
            "The maximally specific Find-s hypothesis for the given training examples is :\n",
            "['Sunny', 'Warm', '?', 'Strong', '?', '?']\n"
          ]
        }
      ]
    }
  ]
}