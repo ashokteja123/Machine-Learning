{
  "nbformat": 4,
  "nbformat_minor": 0,
  "metadata": {
    "colab": {
      "provenance": [],
      "authorship_tag": "ABX9TyNoYPuIGQRJ6/CHBQCfNEjw",
      "include_colab_link": true
    },
    "kernelspec": {
      "name": "python3",
      "display_name": "Python 3"
    },
    "language_info": {
      "name": "python"
    }
  },
  "cells": [
    {
      "cell_type": "markdown",
      "metadata": {
        "id": "view-in-github",
        "colab_type": "text"
      },
      "source": [
        "<a href=\"https://colab.research.google.com/github/ashokteja123/Machine-Learning/blob/main/House_price_prediction_using_Linear_regression.ipynb\" target=\"_parent\"><img src=\"https://colab.research.google.com/assets/colab-badge.svg\" alt=\"Open In Colab\"/></a>"
      ]
    },
    {
      "cell_type": "markdown",
      "source": [
        "To implement Linear Regression from scratch, we need to understand the fundamental concept behind it. The goal is to fit a line to the data that minimizes the sum of squared errors.\n",
        "\n",
        "Steps to Implement Linear Regression from Scratch:\n",
        "Initialize weights (coefficients) and bias\n",
        "\n",
        "Define the hypothesis (prediction function):\n",
        "\n",
        "𝑦\n",
        "=\n",
        "𝑚\n",
        "1\n",
        "𝑥\n",
        "1\n",
        "+\n",
        "𝑚\n",
        "2\n",
        "𝑥\n",
        "2\n",
        "+\n",
        "⋯\n",
        "+\n",
        "𝑏\n",
        "y=m\n",
        "1\n",
        "​\n",
        " x\n",
        "1\n",
        "​\n",
        " +m\n",
        "2\n",
        "​\n",
        " x\n",
        "2\n",
        "​\n",
        " +⋯+b\n",
        "Define the Loss Function (Mean Squared Error - MSE):\n",
        "\n",
        "𝑀\n",
        "𝑆\n",
        "𝐸\n",
        "=\n",
        "1\n",
        "𝑛\n",
        "∑\n",
        "(\n",
        "𝑦\n",
        "true\n",
        "−\n",
        "𝑦\n",
        "pred\n",
        ")\n",
        "2\n",
        "MSE=\n",
        "n\n",
        "1\n",
        "​\n",
        " ∑(y\n",
        "true\n",
        "​\n",
        " −y\n",
        "pred\n",
        "​\n",
        " )\n",
        "2\n",
        "\n",
        "Compute Gradients (Partial Derivatives of MSE)\n",
        "\n",
        "Update weights using Gradient Descent\n",
        "\n",
        "Repeat until convergence\n",
        "\n",
        "Make predictions with the trained model\n",
        "\n",
        ".\n",
        "\n",
        "now learn without sklearn"
      ],
      "metadata": {
        "id": "jzasriJIIGKU"
      }
    },
    {
      "cell_type": "code",
      "source": [
        "import numpy as np\n",
        "import matplotlib.pyplot as plt\n",
        "\n",
        "# Sample dataset (house prices)\n",
        "data = {\n",
        "    'Area': [1000, 1500, 2000, 2500, 3000, 3500, 4000, 4500, 5000, 5500],\n",
        "    'Bedrooms': [2, 3, 3, 4, 4, 5, 5, 6, 6, 7],\n",
        "    'Price': [150000, 200000, 250000, 300000, 350000, 400000, 450000, 500000, 550000, 600000]\n",
        "}\n",
        "\n",
        "# Convert to NumPy arrays\n",
        "X = np.array([data['Area'], data['Bedrooms']]).T  # Feature matrix (n_samples, n_features)\n",
        "y = np.array(data['Price'])  # Target variable\n",
        "\n",
        "# Standardize data for faster convergence (mean normalization)\n",
        "X_mean = np.mean(X, axis=0)\n",
        "X_std = np.std(X, axis=0)\n",
        "X = (X - X_mean) / X_std  # Normalize features\n",
        "\n",
        "# Add bias term (Intercept) by adding a column of ones\n",
        "X = np.c_[np.ones(X.shape[0]), X]  # Shape (n_samples, n_features+1)\n",
        "\n",
        "# Initialize weights (theta) randomly\n",
        "theta = np.random.randn(X.shape[1])  # Shape (n_features+1,)\n",
        "\n",
        "# Hyperparameters\n",
        "learning_rate = 0.01\n",
        "epochs = 1000\n",
        "m = len(y)  # Number of samples\n",
        "\n",
        "# Gradient Descent Algorithm\n",
        "for epoch in range(epochs):\n",
        "    y_pred = np.dot(X, theta)  # Compute predictions\n",
        "    error = y_pred - y  # Compute error\n",
        "    gradient = (1/m) * np.dot(X.T, error)  # Compute gradient\n",
        "    theta -= learning_rate * gradient  # Update weights\n",
        "\n",
        "    # Compute Mean Squared Error (for tracking)\n",
        "    mse = (1/m) * np.sum(error**2)\n",
        "    if epoch % 100 == 0:\n",
        "        print(f'Epoch {epoch}: MSE = {mse:.2f}')\n",
        "\n",
        "# Final Parameters\n",
        "print(f'Final Weights: {theta}')\n",
        "\n",
        "# Predict Price for a New House\n",
        "new_house = np.array([2800, 4])  # Example: 2800 sqft, 4 bedrooms\n",
        "new_house = (new_house - X_mean) / X_std  # Normalize\n",
        "new_house = np.insert(new_house, 0, 1)  # Add bias term\n",
        "predicted_price = np.dot(new_house, theta)\n",
        "\n",
        "print(f'Predicted Price for the new house: ${predicted_price:.2f}')\n",
        "\n",
        "# Visualization: Actual vs Predicted\n",
        "plt.scatter(y, np.dot(X, theta), color='blue')\n",
        "plt.plot([min(y), max(y)], [min(y), max(y)], color='red', linestyle='dashed')\n",
        "plt.xlabel('Actual Prices')\n",
        "plt.ylabel('Predicted Prices')\n",
        "plt.title('Actual vs Predicted House Prices')\n",
        "plt.show()\n"
      ],
      "metadata": {
        "colab": {
          "base_uri": "https://localhost:8080/",
          "height": 680
        },
        "id": "mkwYt1mOIPkJ",
        "outputId": "a213f077-7c54-4b8c-e67c-9be4f8018d62"
      },
      "execution_count": 1,
      "outputs": [
        {
          "output_type": "stream",
          "name": "stdout",
          "text": [
            "Epoch 0: MSE = 161249225011.50\n",
            "Epoch 100: MSE = 19347259817.16\n",
            "Epoch 200: MSE = 2663429784.40\n",
            "Epoch 300: MSE = 467232500.56\n",
            "Epoch 400: MSE = 170774466.70\n",
            "Epoch 500: MSE = 128174061.61\n",
            "Epoch 600: MSE = 119649344.67\n",
            "Epoch 700: MSE = 115765217.93\n",
            "Epoch 800: MSE = 112576199.70\n",
            "Epoch 900: MSE = 109551716.84\n",
            "Final Weights: [374983.81083878  80913.38316245  62700.68272344]\n",
            "Predicted Price for the new house: $328730.20\n"
          ]
        },
        {
          "output_type": "display_data",
          "data": {
            "text/plain": [
              "<Figure size 640x480 with 1 Axes>"
            ],
            "image/png": "[encoded data removed]"
          },
          "metadata": {}
        }
      ]
    },
    {
      "cell_type": "markdown",
      "source": [
        "explanation of Implementation:\n",
        "✅ Feature Scaling (Normalization):\n",
        "\n",
        "Normalizing Area and Bedrooms for better convergence.\n",
        "\n",
        "✅ Manual Gradient Descent:\n",
        "\n",
        "We iteratively update weights using:\n",
        "\n",
        "𝜃\n",
        "=\n",
        "𝜃\n",
        "−\n",
        "𝛼\n",
        "⋅\n",
        "1\n",
        "𝑚\n",
        "∑\n",
        "(\n",
        "𝑦\n",
        "pred\n",
        "−\n",
        "𝑦\n",
        "true\n",
        ")\n",
        "𝑥\n",
        "θ=θ−α⋅\n",
        "m\n",
        "1\n",
        "​\n",
        " ∑(y\n",
        "pred\n",
        "​\n",
        " −y\n",
        "true\n",
        "​\n",
        " )x\n",
        "Learning rate (α) controls step size.\n",
        "\n",
        "Epochs (1000) determines how many times we update.\n",
        "\n",
        "✅ Bias Handling:\n",
        "\n",
        "We add a column of 1s in X to account for the bias term b.\n",
        "\n",
        "✅ Making Predictions:\n",
        "\n",
        "The model predicts the price of a 2800 sqft house with 4 bedrooms."
      ],
      "metadata": {
        "id": "I3e3LktbIeRp"
      }
    },
    {
      "cell_type": "markdown",
      "source": [
        "# New Section"
      ],
      "metadata": {
        "id": "PCHciPa7I8Xp"
      }
    },
    {
      "cell_type": "markdown",
      "source": [
        "\n",
        "  \n",
        "  Steps to Implement Linear Regression for House Price Prediction:\n",
        "  by using sklearn libraries\n",
        "\n",
        " 1. Load the dataset (you can use a dataset like Boston Housing or any other real estate dataset)\n",
        "\n",
        " 2. Preprocess the data (handle missing values, normalize if needed)\n",
        "\n",
        " 3.  Split the dataset into training and testing sets.\n",
        "\n",
        " 4. Train the linear regression model.\n",
        "\n",
        " 5. Evaluate the model\n",
        "\n"
      ],
      "metadata": {
        "id": "juorxaF_HIY1"
      }
    },
    {
      "cell_type": "code",
      "source": [
        "import numpy as np\n",
        "import pandas as pd\n",
        "import matplotlib.pyplot as plt\n",
        "from sklearn.model_selection import train_test_split\n",
        "from sklearn.linear_model import LinearRegression\n",
        "from sklearn.metrics import mean_absolute_error, mean_squared_error, r2_score\n",
        "\n",
        "# Sample dataset (replace with a real dataset)\n",
        "data = {\n",
        "    'Area': [1000, 1500, 2000, 2500, 3000, 3500, 4000, 4500, 5000],\n",
        "    'Bedrooms': [2, 3, 3, 4, 4, 5, 5, 6, 6],\n",
        "    'Price': [150000, 200000, 250000, 300000, 350000, 400000, 450000, 500000, 550000]\n",
        "}\n",
        "\n",
        "# Convert to DataFrame\n",
        "df = pd.DataFrame(data)\n",
        "\n",
        "# Features (X) and target (y)\n",
        "X = df[['Area', 'Bedrooms']]\n",
        "y = df['Price']\n",
        "\n",
        "# Split the dataset into training and testing sets\n",
        "X_train, X_test, y_train, y_test = train_test_split(X, y, test_size=0.2, random_state=42)\n",
        "\n",
        "# Train a Linear Regression model\n",
        "model = LinearRegression()\n",
        "model.fit(X_train, y_train)\n",
        "\n",
        "# Make predictions\n",
        "y_pred = model.predict(X_test)\n",
        "\n",
        "# Evaluate the model\n",
        "mae = mean_absolute_error(y_test, y_pred)\n",
        "mse = mean_squared_error(y_test, y_pred)\n",
        "r2 = r2_score(y_test, y_pred)\n",
        "\n",
        "# Print metrics\n",
        "print(f'Mean Absolute Error (MAE): {mae}')\n",
        "print(f'Mean Squared Error (MSE): {mse}')\n",
        "print(f'R² Score: {r2}')\n",
        "\n",
        "# Predict price for a new house\n",
        "new_house = np.array([[2800, 4]])  # Example: 2800 sqft, 4 bedrooms\n",
        "predicted_price = model.predict(new_house)\n",
        "print(f'Predicted Price for the new house: ${predicted_price[0]:,.2f}')\n"
      ],
      "metadata": {
        "colab": {
          "base_uri": "https://localhost:8080/"
        },
        "id": "uKQuUtGQKARq",
        "outputId": "7f1a2b91-cce2-40bb-9184-1f15b7564711"
      },
      "execution_count": 3,
      "outputs": [
        {
          "output_type": "stream",
          "name": "stdout",
          "text": [
            "Mean Absolute Error (MAE): 4.3655745685100555e-11\n",
            "Mean Squared Error (MSE): 2.117582368135751e-21\n",
            "R² Score: 1.0\n",
            "Predicted Price for the new house: $330,000.00\n"
          ]
        },
        {
          "output_type": "stream",
          "name": "stderr",
          "text": [
            "/usr/local/lib/python3.11/dist-packages/sklearn/utils/validation.py:2739: UserWarning: X does not have valid feature names, but LinearRegression was fitted with feature names\n",
            "  warnings.warn(\n"
          ]
        }
      ]
    },
    {
      "cell_type": "markdown",
      "source": [
        "**Enhanced code**\n",
        "\n",
        "Improvements:\n",
        "\n",
        " Data Normalization - Standardizes the input features to improve model accuracy.\n",
        "\n",
        " Feature Engineering - Adds interaction features to capture relationships.\n",
        "\n",
        " Cross-Validation - Ensures the model generalizes well.\n",
        "\n",
        " Visualization - Plots actual vs. predicted prices for better insights."
      ],
      "metadata": {
        "id": "m5T5ViI7KFep"
      }
    },
    {
      "cell_type": "code",
      "source": [
        "import numpy as np\n",
        "import pandas as pd\n",
        "import matplotlib.pyplot as plt\n",
        "import seaborn as sns\n",
        "from sklearn.model_selection import train_test_split, cross_val_score\n",
        "from sklearn.preprocessing import StandardScaler, PolynomialFeatures\n",
        "from sklearn.linear_model import LinearRegression\n",
        "from sklearn.metrics import mean_absolute_error, mean_squared_error, r2_score\n",
        "\n",
        "# Sample dataset (replace with real data)\n",
        "data = {\n",
        "    'Area': [1000, 1500, 2000, 2500, 3000, 3500, 4000, 4500, 5000, 5500],\n",
        "    'Bedrooms': [2, 3, 3, 4, 4, 5, 5, 6, 6, 7],\n",
        "    'Age': [10, 5, 15, 20, 8, 12, 7, 25, 30, 18],\n",
        "    'Price': [150000, 200000, 250000, 300000, 350000, 400000, 450000, 500000, 550000, 600000]\n",
        "}\n",
        "\n",
        "# Convert to DataFrame\n",
        "df = pd.DataFrame(data)\n",
        "\n",
        "# Features (X) and target (y)\n",
        "X = df[['Area', 'Bedrooms', 'Age']]\n",
        "y = df['Price']\n",
        "\n",
        "# Feature Scaling\n",
        "scaler = StandardScaler()\n",
        "X_scaled = scaler.fit_transform(X)\n",
        "\n",
        "# Polynomial Features (Optional for Non-Linear Patterns)\n",
        "poly = PolynomialFeatures(degree=2, include_bias=False)\n",
        "X_poly = poly.fit_transform(X_scaled)\n",
        "\n",
        "# Split dataset\n",
        "X_train, X_test, y_train, y_test = train_test_split(X_poly, y, test_size=0.2, random_state=42)\n",
        "\n",
        "# Train Linear Regression Model\n",
        "model = LinearRegression()\n",
        "model.fit(X_train, y_train)\n",
        "\n",
        "# Cross-validation score\n",
        "cv_scores = cross_val_score(model, X_train, y_train, cv=5, scoring='r2')\n",
        "print(f'Cross-Validation R² Scores: {cv_scores}')\n",
        "print(f'Average CV R² Score: {np.mean(cv_scores):.4f}')\n",
        "\n",
        "# Predictions\n",
        "y_pred = model.predict(X_test)\n",
        "\n",
        "# Model Evaluation\n",
        "mae = mean_absolute_error(y_test, y_pred)\n",
        "mse = mean_squared_error(y_test, y_pred)\n",
        "r2 = r2_score(y_test, y_pred)\n",
        "\n",
        "print(f'MAE: {mae:.2f}')\n",
        "print(f'MSE: {mse:.2f}')\n",
        "print(f'R² Score: {r2:.4f}')\n",
        "\n",
        "# Visualization: Actual vs Predicted Prices\n",
        "plt.figure(figsize=(8, 5))\n",
        "sns.scatterplot(x=y_test, y=y_pred)\n",
        "plt.plot([min(y_test), max(y_test)], [min(y_test), max(y_test)], color='red', linestyle='dashed')  # Perfect prediction line\n",
        "plt.xlabel('Actual Prices')\n",
        "plt.ylabel('Predicted Prices')\n",
        "plt.title('Actual vs Predicted House Prices')\n",
        "plt.show()\n",
        "\n",
        "# Predicting Price for a New House\n",
        "new_house = np.array([[2800, 4, 10]])  # Example: 2800 sqft, 4 bedrooms, 10 years old\n",
        "new_house_scaled = scaler.transform(new_house)\n",
        "new_house_poly = poly.transform(new_house_scaled)\n",
        "predicted_price = model.predict(new_house_poly)\n",
        "\n",
        "print(f'Predicted Price for the new house: ${predicted_price[0]:,.2f}')\n"
      ],
      "metadata": {
        "colab": {
          "base_uri": "https://localhost:8080/",
          "height": 715
        },
        "id": "MyuF5xOyJF2B",
        "outputId": "952c0945-0d64-4215-e208-70b22157899a"
      },
      "execution_count": 2,
      "outputs": [
        {
          "output_type": "stream",
          "name": "stderr",
          "text": [
            "/usr/local/lib/python3.11/dist-packages/sklearn/metrics/_regression.py:1266: UndefinedMetricWarning: R^2 score is not well-defined with less than two samples.\n",
            "  warnings.warn(msg, UndefinedMetricWarning)\n",
            "/usr/local/lib/python3.11/dist-packages/sklearn/metrics/_regression.py:1266: UndefinedMetricWarning: R^2 score is not well-defined with less than two samples.\n",
            "  warnings.warn(msg, UndefinedMetricWarning)\n"
          ]
        },
        {
          "output_type": "stream",
          "name": "stdout",
          "text": [
            "Cross-Validation R² Scores: [0.81102476 0.94489459 0.69844623        nan        nan]\n",
            "Average CV R² Score: nan\n",
            "MAE: 27429.98\n",
            "MSE: 821385898.95\n",
            "R² Score: 0.9732\n"
          ]
        },
        {
          "output_type": "display_data",
          "data": {
            "text/plain": [
              "<Figure size 800x500 with 1 Axes>"
            ],
            "image/png": "[encoded data removed]"
          },
          "metadata": {}
        },
        {
          "output_type": "stream",
          "name": "stdout",
          "text": [
            "Predicted Price for the new house: $326,831.88\n"
          ]
        },
        {
          "output_type": "stream",
          "name": "stderr",
          "text": [
            "/usr/local/lib/python3.11/dist-packages/sklearn/utils/validation.py:2739: UserWarning: X does not have valid feature names, but StandardScaler was fitted with feature names\n",
            "  warnings.warn(\n"
          ]
        }
      ]
    }
  ]
}